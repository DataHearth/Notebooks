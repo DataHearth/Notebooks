{
 "cells": [
  {
   "cell_type": "markdown",
   "metadata": {},
   "source": [
    "# Working with pandas"
   ]
  },
  {
   "cell_type": "markdown",
   "metadata": {},
   "source": [
    "## Import the library"
   ]
  },
  {
   "cell_type": "code",
   "execution_count": 20,
   "metadata": {},
   "outputs": [],
   "source": [
    "import pandas as pd\n",
    "pd.set_option('display.max_rows', 5)"
   ]
  },
  {
   "cell_type": "markdown",
   "metadata": {},
   "source": [
    "In `pandas`, we have various data types for computing, reading, sorting, etc... .<br>\n",
    "Most common data types would be `DataFrame` (an object like format with its own function) and `Series` (an array like).<br>\n",
    "<br>\n",
    "You have a lots of way to create those data types. You can open files (JSON, CSV, XML, etc) with a simple command `pd.read_XXX(\"your_file\")`. In most cases, you'll get data with a DataFrame type.<br>\n",
    "To understand and treat your data, `pandas` offers you a lots of functions easy to use. Check out the following section."
   ]
  },
  {
   "cell_type": "markdown",
   "metadata": {},
   "source": [
    "## DataFrame\n",
    "DataFrame is an object like data representation.<br>\n",
    "e.g: \n",
    "```\n",
    "{\n",
    "    \"latitude\": [0, 1, 2],\n",
    "    \"longitude\": [3, 4, 5]\n",
    "}\n",
    "```\n",
    "Multiples options are available to import/create data.<br>\n",
    "Check out the [documentation](https://pandas.pydata.org/pandas-docs/stable/reference/index.html)"
   ]
  },
  {
   "cell_type": "markdown",
   "metadata": {},
   "source": [
    "#### Import data from file"
   ]
  },
  {
   "cell_type": "code",
   "execution_count": 4,
   "metadata": {},
   "outputs": [],
   "source": [
    "file_data = pd.read_csv(\"./birdsong_metadata.csv\")"
   ]
  },
  {
   "cell_type": "markdown",
   "metadata": {},
   "source": [
    "#### Create your own dataframe"
   ]
  },
  {
   "cell_type": "code",
   "execution_count": null,
   "metadata": {},
   "outputs": [],
   "source": [
    "books_data = pd.DataFrame({\n",
    "    \"book_name\": [\"Lord of the Rings\", \"The black company\"],\n",
    "    \"parution_date\": [1954, 1984]\n",
    "})\n",
    "\n",
    "books_data.name = 'Books database'\n",
    "books_data"
   ]
  },
  {
   "cell_type": "markdown",
   "metadata": {},
   "source": [
    "#### Resume your data"
   ]
  },
  {
   "cell_type": "markdown",
   "metadata": {},
   "source": [
    "`describe` allows you to get a resume of your data with the mean, percentiles, etc."
   ]
  },
  {
   "cell_type": "code",
   "execution_count": 5,
   "metadata": {},
   "outputs": [
    {
     "data": {
      "text/html": [
       "<div>\n",
       "<style scoped>\n",
       "    .dataframe tbody tr th:only-of-type {\n",
       "        vertical-align: middle;\n",
       "    }\n",
       "\n",
       "    .dataframe tbody tr th {\n",
       "        vertical-align: top;\n",
       "    }\n",
       "\n",
       "    .dataframe thead th {\n",
       "        text-align: right;\n",
       "    }\n",
       "</style>\n",
       "<table border=\"1\" class=\"dataframe\">\n",
       "  <thead>\n",
       "    <tr style=\"text-align: right;\">\n",
       "      <th></th>\n",
       "      <th>file_id</th>\n",
       "      <th>latitude</th>\n",
       "      <th>longitute</th>\n",
       "    </tr>\n",
       "  </thead>\n",
       "  <tbody>\n",
       "    <tr>\n",
       "      <th>count</th>\n",
       "      <td>264.000000</td>\n",
       "      <td>261.000000</td>\n",
       "      <td>261.000000</td>\n",
       "    </tr>\n",
       "    <tr>\n",
       "      <th>mean</th>\n",
       "      <td>98782.503788</td>\n",
       "      <td>53.007356</td>\n",
       "      <td>5.676923</td>\n",
       "    </tr>\n",
       "    <tr>\n",
       "      <th>std</th>\n",
       "      <td>38058.627589</td>\n",
       "      <td>9.352445</td>\n",
       "      <td>9.482390</td>\n",
       "    </tr>\n",
       "    <tr>\n",
       "      <th>min</th>\n",
       "      <td>25119.000000</td>\n",
       "      <td>-17.807000</td>\n",
       "      <td>-21.622100</td>\n",
       "    </tr>\n",
       "    <tr>\n",
       "      <th>25%</th>\n",
       "      <td>71674.500000</td>\n",
       "      <td>51.257300</td>\n",
       "      <td>-1.505000</td>\n",
       "    </tr>\n",
       "    <tr>\n",
       "      <th>50%</th>\n",
       "      <td>101619.500000</td>\n",
       "      <td>53.095600</td>\n",
       "      <td>1.108900</td>\n",
       "    </tr>\n",
       "    <tr>\n",
       "      <th>75%</th>\n",
       "      <td>130727.500000</td>\n",
       "      <td>55.628900</td>\n",
       "      <td>14.084300</td>\n",
       "    </tr>\n",
       "    <tr>\n",
       "      <th>max</th>\n",
       "      <td>164926.000000</td>\n",
       "      <td>71.055000</td>\n",
       "      <td>31.783400</td>\n",
       "    </tr>\n",
       "  </tbody>\n",
       "</table>\n",
       "</div>"
      ],
      "text/plain": [
       "             file_id    latitude   longitute\n",
       "count     264.000000  261.000000  261.000000\n",
       "mean    98782.503788   53.007356    5.676923\n",
       "std     38058.627589    9.352445    9.482390\n",
       "min     25119.000000  -17.807000  -21.622100\n",
       "25%     71674.500000   51.257300   -1.505000\n",
       "50%    101619.500000   53.095600    1.108900\n",
       "75%    130727.500000   55.628900   14.084300\n",
       "max    164926.000000   71.055000   31.783400"
      ]
     },
     "execution_count": 5,
     "metadata": {},
     "output_type": "execute_result"
    }
   ],
   "source": [
    "file_data.describe()"
   ]
  },
  {
   "cell_type": "markdown",
   "metadata": {},
   "source": [
    "With the `head` method, `pandas` returns the first 5th rows of your data with their columns and values. "
   ]
  },
  {
   "cell_type": "code",
   "execution_count": 24,
   "metadata": {},
   "outputs": [
    {
     "data": {
      "text/html": [
       "<div>\n",
       "<style scoped>\n",
       "    .dataframe tbody tr th:only-of-type {\n",
       "        vertical-align: middle;\n",
       "    }\n",
       "\n",
       "    .dataframe tbody tr th {\n",
       "        vertical-align: top;\n",
       "    }\n",
       "\n",
       "    .dataframe thead th {\n",
       "        text-align: right;\n",
       "    }\n",
       "</style>\n",
       "<table border=\"1\" class=\"dataframe\">\n",
       "  <thead>\n",
       "    <tr style=\"text-align: right;\">\n",
       "      <th></th>\n",
       "      <th>file_id</th>\n",
       "      <th>genus</th>\n",
       "      <th>species</th>\n",
       "      <th>english_cname</th>\n",
       "      <th>who_provided_recording</th>\n",
       "      <th>country</th>\n",
       "      <th>latitude</th>\n",
       "      <th>longitute</th>\n",
       "      <th>type</th>\n",
       "      <th>license</th>\n",
       "    </tr>\n",
       "  </thead>\n",
       "  <tbody>\n",
       "    <tr>\n",
       "      <th>0</th>\n",
       "      <td>132608</td>\n",
       "      <td>Acanthis</td>\n",
       "      <td>flammea</td>\n",
       "      <td>Common Redpoll</td>\n",
       "      <td>Jarek Matusiak</td>\n",
       "      <td>Poland</td>\n",
       "      <td>50.7932</td>\n",
       "      <td>15.4995</td>\n",
       "      <td>female, male, song</td>\n",
       "      <td>http://creativecommons.org/licenses/by-nc-sa/3.0/</td>\n",
       "    </tr>\n",
       "    <tr>\n",
       "      <th>1</th>\n",
       "      <td>132611</td>\n",
       "      <td>Acanthis</td>\n",
       "      <td>flammea</td>\n",
       "      <td>Common Redpoll</td>\n",
       "      <td>Jarek Matusiak</td>\n",
       "      <td>Poland</td>\n",
       "      <td>50.7932</td>\n",
       "      <td>15.4995</td>\n",
       "      <td>flight call, male, song</td>\n",
       "      <td>http://creativecommons.org/licenses/by-nc-sa/3.0/</td>\n",
       "    </tr>\n",
       "    <tr>\n",
       "      <th>2</th>\n",
       "      <td>35068</td>\n",
       "      <td>Acanthis</td>\n",
       "      <td>flammea</td>\n",
       "      <td>Common Redpoll</td>\n",
       "      <td>Sander Bot</td>\n",
       "      <td>Netherlands</td>\n",
       "      <td>52.8176</td>\n",
       "      <td>6.4326</td>\n",
       "      <td>call, song</td>\n",
       "      <td>http://creativecommons.org/licenses/by-nc-nd/2.5/</td>\n",
       "    </tr>\n",
       "    <tr>\n",
       "      <th>3</th>\n",
       "      <td>82715</td>\n",
       "      <td>Acrocephalus</td>\n",
       "      <td>palustris</td>\n",
       "      <td>Marsh Warbler</td>\n",
       "      <td>Dougie Preston</td>\n",
       "      <td>United Kingdom</td>\n",
       "      <td>60.3539</td>\n",
       "      <td>-1.2689</td>\n",
       "      <td>Song</td>\n",
       "      <td>http://creativecommons.org/licenses/by-nc-nd/2.5/</td>\n",
       "    </tr>\n",
       "    <tr>\n",
       "      <th>4</th>\n",
       "      <td>64685</td>\n",
       "      <td>Acrocephalus</td>\n",
       "      <td>palustris</td>\n",
       "      <td>Marsh Warbler</td>\n",
       "      <td>Dougie Preston</td>\n",
       "      <td>United Kingdom</td>\n",
       "      <td>60.3539</td>\n",
       "      <td>-1.2689</td>\n",
       "      <td>Song</td>\n",
       "      <td>http://creativecommons.org/licenses/by-nc-nd/2.5/</td>\n",
       "    </tr>\n",
       "  </tbody>\n",
       "</table>\n",
       "</div>"
      ],
      "text/plain": [
       "   file_id         genus    species   english_cname who_provided_recording  \\\n",
       "0   132608      Acanthis    flammea  Common Redpoll         Jarek Matusiak   \n",
       "1   132611      Acanthis    flammea  Common Redpoll         Jarek Matusiak   \n",
       "2    35068      Acanthis    flammea  Common Redpoll             Sander Bot   \n",
       "3    82715  Acrocephalus  palustris   Marsh Warbler         Dougie Preston   \n",
       "4    64685  Acrocephalus  palustris   Marsh Warbler         Dougie Preston   \n",
       "\n",
       "          country  latitude  longitute                     type  \\\n",
       "0          Poland   50.7932    15.4995       female, male, song   \n",
       "1          Poland   50.7932    15.4995  flight call, male, song   \n",
       "2     Netherlands   52.8176     6.4326               call, song   \n",
       "3  United Kingdom   60.3539    -1.2689                     Song   \n",
       "4  United Kingdom   60.3539    -1.2689                     Song   \n",
       "\n",
       "                                             license  \n",
       "0  http://creativecommons.org/licenses/by-nc-sa/3.0/  \n",
       "1  http://creativecommons.org/licenses/by-nc-sa/3.0/  \n",
       "2  http://creativecommons.org/licenses/by-nc-nd/2.5/  \n",
       "3  http://creativecommons.org/licenses/by-nc-nd/2.5/  \n",
       "4  http://creativecommons.org/licenses/by-nc-nd/2.5/  "
      ]
     },
     "execution_count": 24,
     "metadata": {},
     "output_type": "execute_result"
    }
   ],
   "source": [
    "file_data.head()"
   ]
  },
  {
   "cell_type": "markdown",
   "metadata": {},
   "source": [
    "The property `column` returns all the columns of your DataFrame"
   ]
  },
  {
   "cell_type": "code",
   "execution_count": 23,
   "metadata": {},
   "outputs": [
    {
     "data": {
      "text/plain": [
       "Index(['file_id', 'genus', 'species', 'english_cname',\n",
       "       'who_provided_recording', 'country', 'latitude', 'longitute', 'type',\n",
       "       'license'],\n",
       "      dtype='object')"
      ]
     },
     "execution_count": 23,
     "metadata": {},
     "output_type": "execute_result"
    }
   ],
   "source": [
    "file_data.columns"
   ]
  },
  {
   "cell_type": "markdown",
   "metadata": {},
   "source": [
    "#### Select your data by column"
   ]
  },
  {
   "cell_type": "markdown",
   "metadata": {},
   "source": [
    "You can get the data of a single column by writing the column name like so:"
   ]
  },
  {
   "cell_type": "code",
   "execution_count": 22,
   "metadata": {},
   "outputs": [
    {
     "name": "stdout",
     "output_type": "stream",
     "text": [
      "0      Acanthis\n",
      "1      Acanthis\n",
      "         ...   \n",
      "262    Vanellus\n",
      "263    Vanellus\n",
      "Name: genus, Length: 264, dtype: object\n",
      "0      Acanthis\n",
      "1      Acanthis\n",
      "         ...   \n",
      "262    Vanellus\n",
      "263    Vanellus\n",
      "Name: genus, Length: 264, dtype: object\n"
     ]
    }
   ],
   "source": [
    "print(file_data[\"genus\"])\n",
    "print(file_data.genus)"
   ]
  },
  {
   "cell_type": "markdown",
   "metadata": {},
   "source": [
    "#### Select a list by index"
   ]
  },
  {
   "cell_type": "markdown",
   "metadata": {},
   "source": [
    "The `iloc` and `loc` methods are data selecting methods. Various ways of selection exists for those methods. Please refer to the documentation: [iloc](https://pandas.pydata.org/pandas-docs/stable/reference/api/pandas.DataFrame.iloc.html) and [loc](https://pandas.pydata.org/pandas-docs/stable/reference/api/pandas.DataFrame.loc.html?highlight=loc#pandas.DataFrame.loc)<br>\n",
    "There is a slightly difference between them. `iloc` in a non-inclusive data selection method. That means if you want rows `1 to 10` you should select them with `loc[1:11]`. `loc` is the opposit, it's inclusive."
   ]
  },
  {
   "cell_type": "code",
   "execution_count": 21,
   "metadata": {},
   "outputs": [
    {
     "data": {
      "text/html": [
       "<div>\n",
       "<style scoped>\n",
       "    .dataframe tbody tr th:only-of-type {\n",
       "        vertical-align: middle;\n",
       "    }\n",
       "\n",
       "    .dataframe tbody tr th {\n",
       "        vertical-align: top;\n",
       "    }\n",
       "\n",
       "    .dataframe thead th {\n",
       "        text-align: right;\n",
       "    }\n",
       "</style>\n",
       "<table border=\"1\" class=\"dataframe\">\n",
       "  <thead>\n",
       "    <tr style=\"text-align: right;\">\n",
       "      <th></th>\n",
       "      <th>file_id</th>\n",
       "      <th>genus</th>\n",
       "      <th>species</th>\n",
       "      <th>english_cname</th>\n",
       "      <th>who_provided_recording</th>\n",
       "      <th>country</th>\n",
       "      <th>latitude</th>\n",
       "      <th>longitute</th>\n",
       "      <th>type</th>\n",
       "      <th>license</th>\n",
       "    </tr>\n",
       "  </thead>\n",
       "  <tbody>\n",
       "    <tr>\n",
       "      <th>0</th>\n",
       "      <td>132608</td>\n",
       "      <td>Acanthis</td>\n",
       "      <td>flammea</td>\n",
       "      <td>Common Redpoll</td>\n",
       "      <td>Jarek Matusiak</td>\n",
       "      <td>Poland</td>\n",
       "      <td>50.7932</td>\n",
       "      <td>15.4995</td>\n",
       "      <td>female, male, song</td>\n",
       "      <td>http://creativecommons.org/licenses/by-nc-sa/3.0/</td>\n",
       "    </tr>\n",
       "    <tr>\n",
       "      <th>1</th>\n",
       "      <td>132611</td>\n",
       "      <td>Acanthis</td>\n",
       "      <td>flammea</td>\n",
       "      <td>Common Redpoll</td>\n",
       "      <td>Jarek Matusiak</td>\n",
       "      <td>Poland</td>\n",
       "      <td>50.7932</td>\n",
       "      <td>15.4995</td>\n",
       "      <td>flight call, male, song</td>\n",
       "      <td>http://creativecommons.org/licenses/by-nc-sa/3.0/</td>\n",
       "    </tr>\n",
       "    <tr>\n",
       "      <th>...</th>\n",
       "      <td>...</td>\n",
       "      <td>...</td>\n",
       "      <td>...</td>\n",
       "      <td>...</td>\n",
       "      <td>...</td>\n",
       "      <td>...</td>\n",
       "      <td>...</td>\n",
       "      <td>...</td>\n",
       "      <td>...</td>\n",
       "      <td>...</td>\n",
       "    </tr>\n",
       "    <tr>\n",
       "      <th>9</th>\n",
       "      <td>124052</td>\n",
       "      <td>Acrocephalus</td>\n",
       "      <td>scirpaceus</td>\n",
       "      <td>Eurasian Reed Warbler</td>\n",
       "      <td>david m</td>\n",
       "      <td>United Kingdom</td>\n",
       "      <td>51.8985</td>\n",
       "      <td>-0.5372</td>\n",
       "      <td>call, female, male, song</td>\n",
       "      <td>http://creativecommons.org/licenses/by-nc-nd/3.0/</td>\n",
       "    </tr>\n",
       "    <tr>\n",
       "      <th>10</th>\n",
       "      <td>124053</td>\n",
       "      <td>Acrocephalus</td>\n",
       "      <td>scirpaceus</td>\n",
       "      <td>Eurasian Reed Warbler</td>\n",
       "      <td>david m</td>\n",
       "      <td>United Kingdom</td>\n",
       "      <td>51.8985</td>\n",
       "      <td>-0.5372</td>\n",
       "      <td>call, female, male, song</td>\n",
       "      <td>http://creativecommons.org/licenses/by-nc-nd/3.0/</td>\n",
       "    </tr>\n",
       "  </tbody>\n",
       "</table>\n",
       "<p>11 rows × 10 columns</p>\n",
       "</div>"
      ],
      "text/plain": [
       "    file_id         genus     species          english_cname  \\\n",
       "0    132608      Acanthis     flammea         Common Redpoll   \n",
       "1    132611      Acanthis     flammea         Common Redpoll   \n",
       "..      ...           ...         ...                    ...   \n",
       "9    124052  Acrocephalus  scirpaceus  Eurasian Reed Warbler   \n",
       "10   124053  Acrocephalus  scirpaceus  Eurasian Reed Warbler   \n",
       "\n",
       "   who_provided_recording         country  latitude  longitute  \\\n",
       "0          Jarek Matusiak          Poland   50.7932    15.4995   \n",
       "1          Jarek Matusiak          Poland   50.7932    15.4995   \n",
       "..                    ...             ...       ...        ...   \n",
       "9                 david m  United Kingdom   51.8985    -0.5372   \n",
       "10                david m  United Kingdom   51.8985    -0.5372   \n",
       "\n",
       "                        type  \\\n",
       "0         female, male, song   \n",
       "1    flight call, male, song   \n",
       "..                       ...   \n",
       "9   call, female, male, song   \n",
       "10  call, female, male, song   \n",
       "\n",
       "                                              license  \n",
       "0   http://creativecommons.org/licenses/by-nc-sa/3.0/  \n",
       "1   http://creativecommons.org/licenses/by-nc-sa/3.0/  \n",
       "..                                                ...  \n",
       "9   http://creativecommons.org/licenses/by-nc-nd/3.0/  \n",
       "10  http://creativecommons.org/licenses/by-nc-nd/3.0/  \n",
       "\n",
       "[11 rows x 10 columns]"
      ]
     },
     "execution_count": 21,
     "metadata": {},
     "output_type": "execute_result"
    }
   ],
   "source": [
    "file_data.iloc[0:10] # Will returns result 0 to 9\n",
    "file_data.loc[0:10] # Will returns result 0 to 10"
   ]
  },
  {
   "cell_type": "markdown",
   "metadata": {},
   "source": [
    "#### Values triage"
   ]
  },
  {
   "cell_type": "markdown",
   "metadata": {},
   "source": [
    "Show only unique values"
   ]
  },
  {
   "cell_type": "code",
   "execution_count": 25,
   "metadata": {},
   "outputs": [
    {
     "data": {
      "text/plain": [
       "array(['flammea', 'palustris', 'schoenobaenus', 'scirpaceus', 'caudatus',\n",
       "       'arvensis', 'pratensis', 'trivialis', 'apus', 'canadensis',\n",
       "       'alpina', 'europaeus', 'carduelis', 'familiaris', 'chloris',\n",
       "       'ridibundus', 'monedula', 'livia', 'oenas', 'palumbus', 'corax',\n",
       "       'corone', 'frugilegus', 'canorus', 'caeruleus', 'urbicum', 'major',\n",
       "       'martius', 'calandra', 'citrinella', 'schoeniclus', 'rubecula',\n",
       "       'coelebs', 'atra', 'gallinago', 'chloropus', 'glandarius',\n",
       "       'stellata', 'ostralegus', 'rustica', 'torquilla', 'lagopus',\n",
       "       'argentatus', 'cannabina', 'fluviatilis', 'curvirostra',\n",
       "       'megarhynchos', 'apiaster', 'aguimp', 'flava', 'striata',\n",
       "       'oriolus', 'domesticus', 'montanus', 'perdix', 'ater', 'apivorus',\n",
       "       'colchicus', 'phoenicurus', 'collybita', 'sibilatrix', 'trochilus',\n",
       "       'pica', 'viridis', 'apricaria', 'squatarola', 'modularis',\n",
       "       'pyrrhula', 'regulus', 'europaea', 'decaocto', 'turtur', 'aluco',\n",
       "       'vulgaris', 'atricapilla', 'borin', 'communis', 'curruca',\n",
       "       'glareola', 'totanus', 'troglodytes', 'iliacus', 'merula',\n",
       "       'philomelos', 'vanellus'], dtype=object)"
      ]
     },
     "execution_count": 25,
     "metadata": {},
     "output_type": "execute_result"
    }
   ],
   "source": [
    "file_data[\"species\"].unique()"
   ]
  },
  {
   "cell_type": "markdown",
   "metadata": {},
   "source": [
    "Show numbers of occurence of each values"
   ]
  },
  {
   "cell_type": "code",
   "execution_count": 26,
   "metadata": {},
   "outputs": [
    {
     "data": {
      "text/plain": [
       "major       6\n",
       "montanus    6\n",
       "           ..\n",
       "caudatus    3\n",
       "monedula    3\n",
       "Name: species, Length: 85, dtype: int64"
      ]
     },
     "execution_count": 26,
     "metadata": {},
     "output_type": "execute_result"
    }
   ],
   "source": [
    "file_data[\"species\"].value_counts()"
   ]
  },
  {
   "cell_type": "markdown",
   "metadata": {},
   "source": [
    "Iterate over column with `lambda` function"
   ]
  },
  {
   "cell_type": "code",
   "execution_count": null,
   "metadata": {},
   "outputs": [],
   "source": [
    "file_data[\"species\"].map(lambda p: print(p))"
   ]
  },
  {
   "cell_type": "markdown",
   "metadata": {},
   "source": [
    "Iterate over DataFrame and applies to the entiere selected data"
   ]
  },
  {
   "cell_type": "code",
   "execution_count": 28,
   "metadata": {},
   "outputs": [
    {
     "data": {
      "text/plain": [
       "0          flammea Acanthis\n",
       "1          flammea Acanthis\n",
       "2          flammea Acanthis\n",
       "3    palustris Acrocephalus\n",
       "4    palustris Acrocephalus\n",
       "Name: species, dtype: object"
      ]
     },
     "execution_count": 28,
     "metadata": {},
     "output_type": "execute_result"
    }
   ],
   "source": [
    "def species_genus(row):\n",
    "    row[\"species\"] = row[\"species\"] + \" \" + row[\"genus\"]\n",
    "    return row\n",
    "\n",
    "modified_data = file_data.apply(species_genus, axis=\"columns\")\n",
    "modified_data[\"species\"].head()"
   ]
  },
  {
   "cell_type": "markdown",
   "metadata": {},
   "source": [
    "#### Grouping"
   ]
  },
  {
   "cell_type": "markdown",
   "metadata": {},
   "source": [
    "Grouping data is an excellent way for manual triage and sorting. The `groupby` method is the key"
   ]
  },
  {
   "cell_type": "code",
   "execution_count": 36,
   "metadata": {},
   "outputs": [
    {
     "data": {
      "text/html": [
       "<div>\n",
       "<style scoped>\n",
       "    .dataframe tbody tr th:only-of-type {\n",
       "        vertical-align: middle;\n",
       "    }\n",
       "\n",
       "    .dataframe tbody tr th {\n",
       "        vertical-align: top;\n",
       "    }\n",
       "\n",
       "    .dataframe thead th {\n",
       "        text-align: right;\n",
       "    }\n",
       "</style>\n",
       "<table border=\"1\" class=\"dataframe\">\n",
       "  <thead>\n",
       "    <tr style=\"text-align: right;\">\n",
       "      <th></th>\n",
       "      <th></th>\n",
       "      <th>file_id</th>\n",
       "      <th>genus</th>\n",
       "      <th>species</th>\n",
       "      <th>english_cname</th>\n",
       "      <th>who_provided_recording</th>\n",
       "      <th>country</th>\n",
       "      <th>latitude</th>\n",
       "      <th>longitute</th>\n",
       "      <th>type</th>\n",
       "      <th>license</th>\n",
       "    </tr>\n",
       "    <tr>\n",
       "      <th>genus</th>\n",
       "      <th>species</th>\n",
       "      <th></th>\n",
       "      <th></th>\n",
       "      <th></th>\n",
       "      <th></th>\n",
       "      <th></th>\n",
       "      <th></th>\n",
       "      <th></th>\n",
       "      <th></th>\n",
       "      <th></th>\n",
       "      <th></th>\n",
       "    </tr>\n",
       "  </thead>\n",
       "  <tbody>\n",
       "    <tr>\n",
       "      <th>Acanthis</th>\n",
       "      <th>flammea</th>\n",
       "      <td>35068</td>\n",
       "      <td>Acanthis</td>\n",
       "      <td>flammea</td>\n",
       "      <td>Common Redpoll</td>\n",
       "      <td>Sander Bot</td>\n",
       "      <td>Netherlands</td>\n",
       "      <td>52.8176</td>\n",
       "      <td>6.4326</td>\n",
       "      <td>call, song</td>\n",
       "      <td>http://creativecommons.org/licenses/by-nc-nd/2.5/</td>\n",
       "    </tr>\n",
       "    <tr>\n",
       "      <th>Acrocephalus</th>\n",
       "      <th>palustris</th>\n",
       "      <td>82715</td>\n",
       "      <td>Acrocephalus</td>\n",
       "      <td>palustris</td>\n",
       "      <td>Marsh Warbler</td>\n",
       "      <td>Dougie Preston</td>\n",
       "      <td>United Kingdom</td>\n",
       "      <td>60.3539</td>\n",
       "      <td>-1.2689</td>\n",
       "      <td>Song</td>\n",
       "      <td>http://creativecommons.org/licenses/by-nc-nd/2.5/</td>\n",
       "    </tr>\n",
       "    <tr>\n",
       "      <th>...</th>\n",
       "      <th>...</th>\n",
       "      <td>...</td>\n",
       "      <td>...</td>\n",
       "      <td>...</td>\n",
       "      <td>...</td>\n",
       "      <td>...</td>\n",
       "      <td>...</td>\n",
       "      <td>...</td>\n",
       "      <td>...</td>\n",
       "      <td>...</td>\n",
       "      <td>...</td>\n",
       "    </tr>\n",
       "    <tr>\n",
       "      <th>Turdus</th>\n",
       "      <th>philomelos</th>\n",
       "      <td>132392</td>\n",
       "      <td>Turdus</td>\n",
       "      <td>philomelos</td>\n",
       "      <td>Song Thrush</td>\n",
       "      <td>david m</td>\n",
       "      <td>United Kingdom</td>\n",
       "      <td>54.1200</td>\n",
       "      <td>-0.5445</td>\n",
       "      <td>song</td>\n",
       "      <td>http://creativecommons.org/licenses/by-nc-nd/3.0/</td>\n",
       "    </tr>\n",
       "    <tr>\n",
       "      <th>Vanellus</th>\n",
       "      <th>vanellus</th>\n",
       "      <td>27060</td>\n",
       "      <td>Vanellus</td>\n",
       "      <td>vanellus</td>\n",
       "      <td>Northern Lapwing</td>\n",
       "      <td>Patrik berg</td>\n",
       "      <td>Sweden</td>\n",
       "      <td>58.4051</td>\n",
       "      <td>14.3028</td>\n",
       "      <td>song</td>\n",
       "      <td>http://creativecommons.org/licenses/by-nc-sa/3.0/</td>\n",
       "    </tr>\n",
       "  </tbody>\n",
       "</table>\n",
       "<p>88 rows × 10 columns</p>\n",
       "</div>"
      ],
      "text/plain": [
       "                         file_id         genus     species     english_cname  \\\n",
       "genus        species                                                           \n",
       "Acanthis     flammea       35068      Acanthis     flammea    Common Redpoll   \n",
       "Acrocephalus palustris     82715  Acrocephalus   palustris     Marsh Warbler   \n",
       "...                          ...           ...         ...               ...   \n",
       "Turdus       philomelos   132392        Turdus  philomelos       Song Thrush   \n",
       "Vanellus     vanellus      27060      Vanellus    vanellus  Northern Lapwing   \n",
       "\n",
       "                        who_provided_recording         country  latitude  \\\n",
       "genus        species                                                       \n",
       "Acanthis     flammea                Sander Bot     Netherlands   52.8176   \n",
       "Acrocephalus palustris          Dougie Preston  United Kingdom   60.3539   \n",
       "...                                        ...             ...       ...   \n",
       "Turdus       philomelos                david m  United Kingdom   54.1200   \n",
       "Vanellus     vanellus              Patrik berg          Sweden   58.4051   \n",
       "\n",
       "                         longitute        type  \\\n",
       "genus        species                             \n",
       "Acanthis     flammea        6.4326  call, song   \n",
       "Acrocephalus palustris     -1.2689        Song   \n",
       "...                            ...         ...   \n",
       "Turdus       philomelos    -0.5445        song   \n",
       "Vanellus     vanellus      14.3028        song   \n",
       "\n",
       "                                                                   license  \n",
       "genus        species                                                        \n",
       "Acanthis     flammea     http://creativecommons.org/licenses/by-nc-nd/2.5/  \n",
       "Acrocephalus palustris   http://creativecommons.org/licenses/by-nc-nd/2.5/  \n",
       "...                                                                    ...  \n",
       "Turdus       philomelos  http://creativecommons.org/licenses/by-nc-nd/3.0/  \n",
       "Vanellus     vanellus    http://creativecommons.org/licenses/by-nc-sa/3.0/  \n",
       "\n",
       "[88 rows x 10 columns]"
      ]
     },
     "execution_count": 36,
     "metadata": {},
     "output_type": "execute_result"
    }
   ],
   "source": [
    "file_data.groupby([\"genus\", \"species\"]).apply(lambda df: df.loc[df[\"latitude\"].idxmax()])"
   ]
  },
  {
   "cell_type": "markdown",
   "metadata": {},
   "source": [
    "#### Sorting"
   ]
  },
  {
   "cell_type": "markdown",
   "metadata": {},
   "source": [
    "`pandas` has powerful methods to sort data from `DataFrame`, `Series`, etc.<br>\n",
    "Here's some powerful ones"
   ]
  },
  {
   "cell_type": "code",
   "execution_count": 42,
   "metadata": {},
   "outputs": [
    {
     "data": {
      "text/html": [
       "<div>\n",
       "<style scoped>\n",
       "    .dataframe tbody tr th:only-of-type {\n",
       "        vertical-align: middle;\n",
       "    }\n",
       "\n",
       "    .dataframe tbody tr th {\n",
       "        vertical-align: top;\n",
       "    }\n",
       "\n",
       "    .dataframe thead th {\n",
       "        text-align: right;\n",
       "    }\n",
       "</style>\n",
       "<table border=\"1\" class=\"dataframe\">\n",
       "  <thead>\n",
       "    <tr style=\"text-align: right;\">\n",
       "      <th></th>\n",
       "      <th>file_id</th>\n",
       "      <th>genus</th>\n",
       "      <th>species</th>\n",
       "      <th>english_cname</th>\n",
       "      <th>who_provided_recording</th>\n",
       "      <th>country</th>\n",
       "      <th>latitude</th>\n",
       "      <th>longitute</th>\n",
       "      <th>type</th>\n",
       "      <th>license</th>\n",
       "    </tr>\n",
       "  </thead>\n",
       "  <tbody>\n",
       "    <tr>\n",
       "      <th>82</th>\n",
       "      <td>98942</td>\n",
       "      <td>Dryocopus</td>\n",
       "      <td>martius</td>\n",
       "      <td>Black Woodpecker</td>\n",
       "      <td>Filip Verbelen</td>\n",
       "      <td>Belgium</td>\n",
       "      <td>50.9580</td>\n",
       "      <td>3.7270</td>\n",
       "      <td>song</td>\n",
       "      <td>http://creativecommons.org/licenses/by-nc-nd/2.5/</td>\n",
       "    </tr>\n",
       "    <tr>\n",
       "      <th>132</th>\n",
       "      <td>83760</td>\n",
       "      <td>Locustella</td>\n",
       "      <td>fluviatilis</td>\n",
       "      <td>River Warbler</td>\n",
       "      <td>Kamil Cihak</td>\n",
       "      <td>Czech Republic</td>\n",
       "      <td>NaN</td>\n",
       "      <td>NaN</td>\n",
       "      <td>song</td>\n",
       "      <td>http://creativecommons.org/licenses/by-nc-nd/2.5/</td>\n",
       "    </tr>\n",
       "    <tr>\n",
       "      <th>...</th>\n",
       "      <td>...</td>\n",
       "      <td>...</td>\n",
       "      <td>...</td>\n",
       "      <td>...</td>\n",
       "      <td>...</td>\n",
       "      <td>...</td>\n",
       "      <td>...</td>\n",
       "      <td>...</td>\n",
       "      <td>...</td>\n",
       "      <td>...</td>\n",
       "    </tr>\n",
       "    <tr>\n",
       "      <th>145</th>\n",
       "      <td>41428</td>\n",
       "      <td>Motacilla</td>\n",
       "      <td>aguimp</td>\n",
       "      <td>African Pied Wagtail</td>\n",
       "      <td>Derek Solomon</td>\n",
       "      <td>Zambia</td>\n",
       "      <td>-13.0667</td>\n",
       "      <td>31.7834</td>\n",
       "      <td>Call</td>\n",
       "      <td>http://creativecommons.org/licenses/by-nc-nd/2.5/</td>\n",
       "    </tr>\n",
       "    <tr>\n",
       "      <th>144</th>\n",
       "      <td>125137</td>\n",
       "      <td>Motacilla</td>\n",
       "      <td>aguimp</td>\n",
       "      <td>African Pied Wagtail</td>\n",
       "      <td>Bram Piot</td>\n",
       "      <td>Zambia</td>\n",
       "      <td>-17.8070</td>\n",
       "      <td>25.6894</td>\n",
       "      <td>call, female, male</td>\n",
       "      <td>http://creativecommons.org/licenses/by-nc-sa/3.0/</td>\n",
       "    </tr>\n",
       "  </tbody>\n",
       "</table>\n",
       "<p>264 rows × 10 columns</p>\n",
       "</div>"
      ],
      "text/plain": [
       "     file_id       genus      species         english_cname  \\\n",
       "82     98942   Dryocopus      martius      Black Woodpecker   \n",
       "132    83760  Locustella  fluviatilis         River Warbler   \n",
       "..       ...         ...          ...                   ...   \n",
       "145    41428   Motacilla       aguimp  African Pied Wagtail   \n",
       "144   125137   Motacilla       aguimp  African Pied Wagtail   \n",
       "\n",
       "    who_provided_recording         country  latitude  longitute  \\\n",
       "82          Filip Verbelen         Belgium   50.9580     3.7270   \n",
       "132            Kamil Cihak  Czech Republic       NaN        NaN   \n",
       "..                     ...             ...       ...        ...   \n",
       "145          Derek Solomon          Zambia  -13.0667    31.7834   \n",
       "144              Bram Piot          Zambia  -17.8070    25.6894   \n",
       "\n",
       "                   type                                            license  \n",
       "82                 song  http://creativecommons.org/licenses/by-nc-nd/2.5/  \n",
       "132                song  http://creativecommons.org/licenses/by-nc-nd/2.5/  \n",
       "..                  ...                                                ...  \n",
       "145                Call  http://creativecommons.org/licenses/by-nc-nd/2.5/  \n",
       "144  call, female, male  http://creativecommons.org/licenses/by-nc-sa/3.0/  \n",
       "\n",
       "[264 rows x 10 columns]"
      ]
     },
     "execution_count": 42,
     "metadata": {},
     "output_type": "execute_result"
    }
   ],
   "source": [
    "file_data.sort_values(by=\"country\")"
   ]
  },
  {
   "cell_type": "markdown",
   "metadata": {},
   "source": [
    "#### Data type"
   ]
  },
  {
   "cell_type": "code",
   "execution_count": 46,
   "metadata": {},
   "outputs": [
    {
     "data": {
      "text/plain": [
       "file_id     int64\n",
       "genus      object\n",
       "            ...  \n",
       "type       object\n",
       "license    object\n",
       "Length: 10, dtype: object"
      ]
     },
     "execution_count": 46,
     "metadata": {},
     "output_type": "execute_result"
    }
   ],
   "source": [
    "file_data.dtypes"
   ]
  },
  {
   "cell_type": "code",
   "execution_count": 50,
   "metadata": {},
   "outputs": [
    {
     "data": {
      "text/plain": [
       "dtype('O')"
      ]
     },
     "execution_count": 50,
     "metadata": {},
     "output_type": "execute_result"
    }
   ],
   "source": [
    "file_data[\"genus\"].dtype"
   ]
  },
  {
   "cell_type": "code",
   "execution_count": null,
   "metadata": {},
   "outputs": [],
   "source": [
    "file_data[\"latitude\"].astype(\"str\").values # They're all strings now"
   ]
  },
  {
   "cell_type": "code",
   "execution_count": 76,
   "metadata": {},
   "outputs": [
    {
     "data": {
      "text/html": [
       "<div>\n",
       "<style scoped>\n",
       "    .dataframe tbody tr th:only-of-type {\n",
       "        vertical-align: middle;\n",
       "    }\n",
       "\n",
       "    .dataframe tbody tr th {\n",
       "        vertical-align: top;\n",
       "    }\n",
       "\n",
       "    .dataframe thead th {\n",
       "        text-align: right;\n",
       "    }\n",
       "</style>\n",
       "<table border=\"1\" class=\"dataframe\">\n",
       "  <thead>\n",
       "    <tr style=\"text-align: right;\">\n",
       "      <th></th>\n",
       "      <th>file_id</th>\n",
       "      <th>genus</th>\n",
       "      <th>species</th>\n",
       "      <th>english_cname</th>\n",
       "      <th>who_provided_recording</th>\n",
       "      <th>country</th>\n",
       "      <th>latitude</th>\n",
       "      <th>longitute</th>\n",
       "      <th>type</th>\n",
       "      <th>license</th>\n",
       "    </tr>\n",
       "  </thead>\n",
       "  <tbody>\n",
       "    <tr>\n",
       "      <th>132</th>\n",
       "      <td>83760</td>\n",
       "      <td>Locustella</td>\n",
       "      <td>fluviatilis</td>\n",
       "      <td>River Warbler</td>\n",
       "      <td>Kamil Cihak</td>\n",
       "      <td>Czech Republic</td>\n",
       "      <td>NaN</td>\n",
       "      <td>NaN</td>\n",
       "      <td>song</td>\n",
       "      <td>http://creativecommons.org/licenses/by-nc-nd/2.5/</td>\n",
       "    </tr>\n",
       "    <tr>\n",
       "      <th>143</th>\n",
       "      <td>97194</td>\n",
       "      <td>Merops</td>\n",
       "      <td>apiaster</td>\n",
       "      <td>European Bee-eater</td>\n",
       "      <td>Rodolphe ALEXIS</td>\n",
       "      <td>Spain</td>\n",
       "      <td>NaN</td>\n",
       "      <td>NaN</td>\n",
       "      <td>Song</td>\n",
       "      <td>http://creativecommons.org/licenses/by-nc-nd/2.5/</td>\n",
       "    </tr>\n",
       "    <tr>\n",
       "      <th>182</th>\n",
       "      <td>71748</td>\n",
       "      <td>Phylloscopus</td>\n",
       "      <td>collybita</td>\n",
       "      <td>Common Chiffchaff</td>\n",
       "      <td>Mark Doveston</td>\n",
       "      <td>United Kingdom</td>\n",
       "      <td>NaN</td>\n",
       "      <td>NaN</td>\n",
       "      <td>Song,call</td>\n",
       "      <td>http://creativecommons.org/licenses/by-nc-nd/2.5/</td>\n",
       "    </tr>\n",
       "  </tbody>\n",
       "</table>\n",
       "</div>"
      ],
      "text/plain": [
       "     file_id         genus      species       english_cname  \\\n",
       "132    83760    Locustella  fluviatilis       River Warbler   \n",
       "143    97194        Merops     apiaster  European Bee-eater   \n",
       "182    71748  Phylloscopus    collybita   Common Chiffchaff   \n",
       "\n",
       "    who_provided_recording         country  latitude  longitute       type  \\\n",
       "132            Kamil Cihak  Czech Republic       NaN        NaN       song   \n",
       "143        Rodolphe ALEXIS           Spain       NaN        NaN       Song   \n",
       "182          Mark Doveston  United Kingdom       NaN        NaN  Song,call   \n",
       "\n",
       "                                               license  \n",
       "132  http://creativecommons.org/licenses/by-nc-nd/2.5/  \n",
       "143  http://creativecommons.org/licenses/by-nc-nd/2.5/  \n",
       "182  http://creativecommons.org/licenses/by-nc-nd/2.5/  "
      ]
     },
     "execution_count": 76,
     "metadata": {},
     "output_type": "execute_result"
    }
   ],
   "source": [
    "len(file_data)\n",
    "\n",
    "file_data[pd.isnull(file_data.latitude)]"
   ]
  },
  {
   "cell_type": "code",
   "execution_count": 85,
   "metadata": {},
   "outputs": [
    {
     "data": {
      "text/plain": [
       "'Unknown'"
      ]
     },
     "execution_count": 85,
     "metadata": {},
     "output_type": "execute_result"
    }
   ],
   "source": [
    "file_data.latitude = file_data.latitude.fillna(\"Unknown\")\n",
    "file_data.latitude.loc[132]"
   ]
  },
  {
   "cell_type": "code",
   "execution_count": 89,
   "metadata": {},
   "outputs": [
    {
     "data": {
      "text/plain": [
       "'Invalid'"
      ]
     },
     "execution_count": 89,
     "metadata": {},
     "output_type": "execute_result"
    }
   ],
   "source": [
    "file_data.latitude = file_data.latitude.replace(\"Unknown\", \"Invalid\")\n",
    "file_data.latitude.loc[132]"
   ]
  },
  {
   "cell_type": "markdown",
   "metadata": {},
   "source": [
    "## Series\n",
    "Series is an array like data reprensentation with the possibility to create a handmade index.<br>\n",
    "e.g:\n",
    "```\n",
    "data: [1, 2, 3, 4]\n",
    "index: [\"get\", \"some\", \"index\", \"idea\"]\n",
    "```\n",
    "Series can be created by yourself or retrieved from DataFrame column"
   ]
  }
 ],
 "metadata": {
  "kernelspec": {
   "display_name": "Python 3",
   "language": "python",
   "name": "python3"
  },
  "language_info": {
   "codemirror_mode": {
    "name": "ipython",
    "version": 3
   },
   "file_extension": ".py",
   "mimetype": "text/x-python",
   "name": "python",
   "nbconvert_exporter": "python",
   "pygments_lexer": "ipython3",
   "version": "3.8.2"
  },
  "toc-autonumbering": false,
  "toc-showcode": false,
  "toc-showmarkdowntxt": true
 },
 "nbformat": 4,
 "nbformat_minor": 4
}
